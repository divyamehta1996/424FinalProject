{
 "cells": [
  {
   "cell_type": "code",
   "execution_count": 31,
   "metadata": {
    "scrolled": false
   },
   "outputs": [
    {
     "name": "stdout",
     "output_type": "stream",
     "text": [
      "(151, 12)\n",
      "(227, 20)\n",
      "151\n",
      "151\n"
     ]
    }
   ],
   "source": [
    "import numpy as np \n",
    "import pandas as pd \n",
    "\n",
    "countries_report = pd.read_csv(\"countries.csv\", header = 0, low_memory=False)\n",
    "happiness_report = pd.read_csv(\"2017.csv\", header = 0, low_memory=False)\n",
    "\n",
    "\n",
    "happy_data = []\n",
    "country_data = []\n",
    "\n",
    "print happiness_report.shape\n",
    "print countries_report.shape\n",
    "# happy_data = np.array(happy_data)\n",
    "\n",
    "rows = happiness_report.shape[0]\n",
    "for i in range(rows):\n",
    "    key = unicode(\"Country\", \"utf-8\")\n",
    "    c = happiness_report.loc[happiness_report.index[[i]], key]\n",
    "    c_data = happiness_report.loc[happiness_report.index[[i]]]\n",
    "#     print c_data.values[0]\n",
    "    happy_data.append(c_data.values[0])\n",
    "    \n",
    "    # Gets corresponding countries.csv data for each country in 2017.ccsv\n",
    "    Country = happiness_report.loc[happiness_report.index[[i]], key].values\n",
    "#     print Country[0]\n",
    "    \n",
    "    col = countries_report['Country']\n",
    "    index = -1\n",
    "    for i in col:\n",
    "        index += 1\n",
    "        i = str(i)\n",
    "        if Country[0] in i:\n",
    "#             print i\n",
    "            idx = index\n",
    "            break\n",
    "        \n",
    "    data = countries_report.loc[countries_report.index[idx]]\n",
    "    country_data.append(data)\n",
    "\n",
    "print len(happy_data)\n",
    "print len(country_data)"
   ]
  },
  {
   "cell_type": "code",
   "execution_count": 58,
   "metadata": {},
   "outputs": [
    {
     "name": "stdout",
     "output_type": "stream",
     "text": [
      "(151,)\n",
      "[4.71400023 5.39499998 4.29099989 7.31400013 5.71500015 4.57399988\n",
      " 6.57200003 3.53299999 6.40299988 4.69199991 6.08699989 5.2249999\n",
      " 5.00400019 5.49300003 6.65199995 6.42199993 7.53700018 5.83799982\n",
      " 6.42399979 5.23500013 5.2789998  5.47200012 4.49700022 7.079\n",
      " 4.37599993 6.09800005 6.10500002 4.53499985 4.31500006 5.95599985\n",
      " 6.454      5.7579999  5.26200008 6.00299978 3.59299993 4.11999989\n",
      " 4.69500017 5.87200022 3.47099996 4.29199982 5.33599997 5.07399988\n",
      " 6.45200014 6.89099979 5.92000008 4.28599977 7.49399996 6.52699995\n",
      " 5.07399988 6.0079999  5.82499981 4.64400005 4.6079998  3.79500008\n",
      " 5.32399988 4.0960002  4.829      5.17500019 4.55000019 7.37699986\n",
      " 5.18200016 5.5250001  3.875      5.22700024 4.02799988 5.90199995\n",
      " 5.56899977 5.61100006 3.76600003 5.5        5.25       7.28399992\n",
      " 5.82200003 6.35699987 4.19000006 6.57800007 3.64400005 3.80800009\n",
      " 4.16800022 4.46500015 5.83799982 4.96199989 4.44000006 4.08099985\n",
      " 5.31099987 6.64799976 4.95499992 5.23000002 5.97300005 4.28000021\n",
      " 7.52199984 3.97000003 7.31599999 7.00600004 6.16800022 4.55299997\n",
      " 4.70900011 6.59899998 6.08400011 5.9710002  5.23400021 4.54500008\n",
      " 3.65700007 5.01100016 5.42999983 3.79399991 6.34399986 6.86299992\n",
      " 5.8499999  7.46899986 4.51399994 4.80499983 7.21299982 5.62900019\n",
      " 3.46199989 4.17999983 6.71400023 5.81899977 6.63500023 3.49499989\n",
      " 3.34899998 3.93600011 5.96299982 5.96400023 5.82299995 7.50400019\n",
      " 5.27299976 3.50699997 5.18100023 6.44199991 6.60900021 7.28399992\n",
      " 6.97700024 6.99300003 6.0710001  5.15100002 5.19500017 3.60299993\n",
      " 4.03200007 2.90499997 6.375      5.62099981 4.13899994 5.29300022\n",
      " 4.46000004 2.69300008 6.454      5.04099989 4.73500013 6.95100021\n",
      " 5.26900005]\n",
      "5.29221001387\n",
      "baseline 1.0756152083868398\n",
      "5.42040593080198\n",
      "baseline 1.1378214941907032\n",
      "5.388495046316832\n",
      "baseline 1.677419745346703\n"
     ]
    }
   ],
   "source": [
    "from sklearn.model_selection import KFold\n",
    "from sklearn.metrics import mean_squared_error\n",
    "\n",
    "np.random.shuffle(happy_data)\n",
    "\n",
    "# print happy_data\n",
    "happyX = []\n",
    "happyY = []\n",
    "\n",
    "for i in happy_data:\n",
    "    happyX.append(i[0])\n",
    "    happyY.append(i[2])\n",
    "    \n",
    "happyX = np.array(happyX)\n",
    "happyY = np.array(happyY)\n",
    "print happyX.shape\n",
    "print happyY\n",
    "\n",
    "def mse_baseline(y_train, y_test):\n",
    "    avg = np.average(y_train)\n",
    "    print avg\n",
    "    y_predict = np.full(y_test.shape, avg)\n",
    "    print \"baseline\", mean_squared_error(y_test, y_predict)\n",
    "\n",
    "kf = KFold(n_splits=3)\n",
    "for train_index, test_index in kf.split(happyX):\n",
    "#     print(\"TRAIN:\", train_index, \"TEST:\", test_index)\n",
    "    X_train, X_test = happyX[train_index], happyX[test_index]\n",
    "    y_train, y_test = happyY[train_index], happyY[test_index]\n",
    "    mse_baseline(y_train, y_test)"
   ]
  },
  {
   "cell_type": "code",
   "execution_count": 55,
   "metadata": {},
   "outputs": [
    {
     "name": "stdout",
     "output_type": "stream",
     "text": [
      "(151, 2)\n",
      "(151,)\n",
      "Logistic Regression 2876.2105263157896\n",
      "Logistic Regression 9437.88\n"
     ]
    }
   ],
   "source": [
    "from sklearn.linear_model import LogisticRegression\n",
    "from sklearn import preprocessing\n",
    "\n",
    "countriesX = [] \n",
    "\n",
    "# train using just country population & SQ FT area\n",
    "for i in country_data:\n",
    "    countriesX.append([i[2], i[3]])\n",
    "    \n",
    "countriesX = np.array(countriesX)\n",
    "print countriesX.shape\n",
    "print happyY.shape\n",
    "lab_enc = preprocessing.LabelEncoder()\n",
    "happyY = lab_enc.fit_transform(happyY)\n",
    "    \n",
    "    \n",
    "kf = KFold(n_splits=2)\n",
    "for train_index, test_index in kf.split(countriesX):\n",
    "#     print(\"TRAIN:\", train_index, \"TEST:\", test_index)\n",
    "    X_train, X_test = countriesX[train_index], countriesX[test_index]\n",
    "    y_train, y_test = happyY[train_index], happyY[test_index]\n",
    "    mse_clf(X_train, X_test, y_train, y_test)\n",
    "\n",
    "\n",
    "def mse_clf(X_train, X_test, y_train, y_test):\n",
    "    lr = LogisticRegression()\n",
    "    lr.fit(X_train, y_train)\n",
    "    y_predict = lr.predict(X_test)\n",
    "    print \"Logistic Regression\", mean_squared_error(y_test, y_predict)"
   ]
  },
  {
   "cell_type": "code",
   "execution_count": null,
   "metadata": {},
   "outputs": [],
   "source": []
  }
 ],
 "metadata": {
  "kernelspec": {
   "display_name": "Python 2",
   "language": "python",
   "name": "python2"
  },
  "language_info": {
   "codemirror_mode": {
    "name": "ipython",
    "version": 2
   },
   "file_extension": ".py",
   "mimetype": "text/x-python",
   "name": "python",
   "nbconvert_exporter": "python",
   "pygments_lexer": "ipython2",
   "version": "2.7.14"
  }
 },
 "nbformat": 4,
 "nbformat_minor": 2
}
