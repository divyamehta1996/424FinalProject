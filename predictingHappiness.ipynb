{
 "cells": [
  {
   "cell_type": "code",
   "execution_count": 31,
   "metadata": {
    "scrolled": false
   },
   "outputs": [
    {
     "name": "stdout",
     "output_type": "stream",
     "text": [
      "(151, 12)\n",
      "(227, 20)\n",
      "151\n",
      "151\n"
     ]
    }
   ],
   "source": [
    "import numpy as np \n",
    "import pandas as pd \n",
    "\n",
    "countries_report = pd.read_csv(\"countries.csv\", header = 0, low_memory=False)\n",
    "happiness_report = pd.read_csv(\"2017.csv\", header = 0, low_memory=False)\n",
    "\n",
    "\n",
    "happy_data = []\n",
    "country_data = []\n",
    "\n",
    "print happiness_report.shape\n",
    "print countries_report.shape\n",
    "# happy_data = np.array(happy_data)\n",
    "\n",
    "rows = happiness_report.shape[0]\n",
    "for i in range(rows):\n",
    "    key = unicode(\"Country\", \"utf-8\")\n",
    "    c = happiness_report.loc[happiness_report.index[[i]], key]\n",
    "    c_data = happiness_report.loc[happiness_report.index[[i]]]\n",
    "#     print c_data.values[0]\n",
    "    happy_data.append(c_data.values[0])\n",
    "    \n",
    "    # Gets corresponding countries.csv data for each country in 2017.ccsv\n",
    "    Country = happiness_report.loc[happiness_report.index[[i]], key].values\n",
    "#     print Country[0]\n",
    "    \n",
    "    col = countries_report['Country']\n",
    "    index = -1\n",
    "    for i in col:\n",
    "        index += 1\n",
    "        i = str(i)\n",
    "        if Country[0] in i:\n",
    "#             print i\n",
    "            idx = index\n",
    "            break\n",
    "        \n",
    "    data = countries_report.loc[countries_report.index[idx]]\n",
    "    country_data.append(data)\n",
    "\n",
    "print len(happy_data)\n",
    "print len(country_data)"
   ]
  },
  {
   "cell_type": "code",
   "execution_count": 39,
   "metadata": {},
   "outputs": [
    {
     "name": "stdout",
     "output_type": "stream",
     "text": [
      "(151,)\n",
      "(151,)\n",
      "4.7235400009\n",
      "baseline 3.8882625428821838\n",
      "5.366643565712871\n",
      "baseline 0.09683909542111803\n",
      "6.00529702820792\n",
      "baseline 3.936625957601081\n"
     ]
    }
   ],
   "source": [
    "from sklearn.model_selection import KFold\n",
    "from sklearn.metrics import mean_squared_error\n",
    "\n",
    "np.random.shuffle(np.array(happy_data))\n",
    "\n",
    "# print happy_data\n",
    "happyX = []\n",
    "happyY = []\n",
    "\n",
    "for i in happy_data:\n",
    "    happyX.append(i[0])\n",
    "    happyY.append(i[2])\n",
    "    \n",
    "happyX = np.array(happyX)\n",
    "happyY = np.array(happyY)\n",
    "print happyX.shape\n",
    "print happyY.shape\n",
    "\n",
    "def mse_baseline(y_train, y_test):\n",
    "    avg = np.average(y_train)\n",
    "    print avg\n",
    "    y_predict = np.full(y_test.shape, avg)\n",
    "    print \"baseline\", mean_squared_error(y_test, y_predict)\n",
    "\n",
    "kf = KFold(n_splits=3)\n",
    "for train_index, test_index in kf.split(happyX):\n",
    "#     print(\"TRAIN:\", train_index, \"TEST:\", test_index)\n",
    "    X_train, X_test = happyX[train_index], happyX[test_index]\n",
    "    y_train, y_test = happyY[train_index], happyY[test_index]\n",
    "    mse_baseline(y_train, y_test)"
   ]
  },
  {
   "cell_type": "code",
   "execution_count": 47,
   "metadata": {},
   "outputs": [
    {
     "name": "stdout",
     "output_type": "stream",
     "text": [
      "(151, 2)\n",
      "(151,)\n",
      "Logistic Regression 2876.2105263157896\n",
      "Logistic Regression 9437.88\n"
     ]
    }
   ],
   "source": [
    "from sklearn.linear_model import LogisticRegression\n",
    "from sklearn import preprocessing\n",
    "\n",
    "def mse_clf(X_train, X_test, y_train, y_test):\n",
    "    lr = LogisticRegression()\n",
    "    lr.fit(X_train, y_train)\n",
    "    y_predict = lr.predict(X_test)\n",
    "    print \"Logistic Regression\", mean_squared_error(y_test, y_predict)\n",
    "    \n",
    "countriesX = [] \n",
    "\n",
    "# train using just country population\n",
    "for i in country_data:\n",
    "    countriesX.append([i[2], i[3]])\n",
    "    \n",
    "countriesX = np.array(countriesX)\n",
    "print countriesX.shape\n",
    "print happyY.shape\n",
    "lab_enc = preprocessing.LabelEncoder()\n",
    "happyY_enc = lab_enc.fit_transform(happyY)\n",
    "    \n",
    "    \n",
    "kf = KFold(n_splits=2)\n",
    "for train_index, test_index in kf.split(countriesX):\n",
    "#     print(\"TRAIN:\", train_index, \"TEST:\", test_index)\n",
    "    X_train, X_test = countriesX[train_index], countriesX[test_index]\n",
    "    y_train, y_test = happyY_enc[train_index], happyY_enc[test_index]\n",
    "    mse_clf(X_train, X_test, y_train, y_test)"
   ]
  },
  {
   "cell_type": "code",
   "execution_count": null,
   "metadata": {},
   "outputs": [],
   "source": []
  }
 ],
 "metadata": {
  "kernelspec": {
   "display_name": "Python 2",
   "language": "python",
   "name": "python2"
  },
  "language_info": {
   "codemirror_mode": {
    "name": "ipython",
    "version": 2
   },
   "file_extension": ".py",
   "mimetype": "text/x-python",
   "name": "python",
   "nbconvert_exporter": "python",
   "pygments_lexer": "ipython2",
   "version": "2.7.14"
  }
 },
 "nbformat": 4,
 "nbformat_minor": 2
}
