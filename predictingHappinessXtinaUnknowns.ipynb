{
 "cells": [
  {
   "cell_type": "code",
   "execution_count": 1,
   "metadata": {},
   "outputs": [
    {
     "name": "stdout",
     "output_type": "stream",
     "text": [
      "(151, 12)\n",
      "(227, 20)\n"
     ]
    }
   ],
   "source": [
    "import numpy as np \n",
    "import pandas as pd \n",
    "\n",
    "countries_report = pd.read_csv(\"countries.csv\", header = 0, low_memory=False)\n",
    "happiness_report = pd.read_csv(\"2017.csv\", header = 0, low_memory=False)\n",
    "\n",
    "happiness_report = happiness_report.sample(frac=1)\n",
    "print happiness_report.shape\n",
    "print countries_report.shape"
   ]
  },
  {
   "cell_type": "code",
   "execution_count": 3,
   "metadata": {
    "scrolled": false
   },
   "outputs": [],
   "source": [
    "happy_data = []\n",
    "country_data = []\n",
    "\n",
    "rows = happiness_report.shape[0]\n",
    "for i in range(rows):\n",
    "    key = unicode(\"Country\", \"utf-8\")\n",
    "    c = happiness_report.loc[happiness_report.index[[i]], key]\n",
    "    c_data = happiness_report.loc[happiness_report.index[[i]]]\n",
    "#     print c_data.values[0]\n",
    "    happy_data.append(c_data.values[0])\n",
    "    \n",
    "    # Gets corresponding countries.csv data for each country in 2017.ccsv\n",
    "    Country = happiness_report.loc[happiness_report.index[[i]], key].values\n",
    "#     print Country[0]\n",
    "    \n",
    "    col = countries_report['Country']\n",
    "    index = -1\n",
    "    for i in col:\n",
    "        index += 1\n",
    "        i = str(i)\n",
    "        if Country[0] in i:\n",
    "            idx = index\n",
    "            break\n",
    "        \n",
    "    data = countries_report.loc[countries_report.index[idx]]\n",
    "    country_data.append(data)"
   ]
  },
  {
   "cell_type": "code",
   "execution_count": 19,
   "metadata": {},
   "outputs": [
    {
     "name": "stdout",
     "output_type": "stream",
     "text": [
      "77\n"
     ]
    }
   ],
   "source": [
    "unknown_country_data = []\n",
    "for i, country in enumerate(countries_report['Country']):\n",
    "    known = False\n",
    "    for j in range(len(country_data)):\n",
    "        if country == country_data[j][0]:\n",
    "            known = True\n",
    "    if known == False:\n",
    "        data = countries_report.loc[countries_report.index[i]]\n",
    "        unknown_country_data.append(data)\n",
    "print len(unknown_country_data)"
   ]
  },
  {
   "cell_type": "code",
   "execution_count": 8,
   "metadata": {
    "collapsed": true
   },
   "outputs": [],
   "source": [
    "import math\n",
    "allArr = np.zeros(19)\n",
    "for i in country_data:\n",
    "    for j in range(2,19):\n",
    "        if isinstance(i[j], float) or isinstance(i[j], int):\n",
    "            if not math.isnan(i[j]):\n",
    "                allArr[j] += i[j]\n",
    "        else:\n",
    "            allArr[j] +=(float(i[j].replace(',','.')))\n",
    "means = allArr/float(len(country_data))"
   ]
  },
  {
   "cell_type": "code",
   "execution_count": 18,
   "metadata": {},
   "outputs": [
    {
     "name": "stdout",
     "output_type": "stream",
     "text": [
      "('Country: ', 'Bermuda ', ' Prediction: ', '7.38282968493')\n",
      "('Country: ', 'Cayman Islands ', ' Prediction: ', '7.33184613467')\n",
      "('Country: ', 'Monaco ', ' Prediction: ', '7.22556756506')\n",
      "('Country: ', 'San Marino ', ' Prediction: ', '7.21734285556')\n",
      "('Country: ', 'Jersey ', ' Prediction: ', '6.92776510916')\n",
      "('Country: ', 'Guinea-Bissau ', ' Prediction: ', '4.13286764986')\n",
      "('Country: ', 'Djibouti ', ' Prediction: ', '4.1994489298')\n",
      "('Country: ', 'Guinea ', ' Prediction: ', '4.35728933089')\n",
      "('Country: ', 'Laos ', ' Prediction: ', '4.40594957174')\n",
      "('Country: ', 'Eritrea ', ' Prediction: ', '4.46844076202')\n"
     ]
    }
   ],
   "source": [
    "from sklearn.linear_model import LogisticRegression\n",
    "from sklearn.linear_model import LinearRegression, Ridge, Lasso\n",
    "from sklearn import preprocessing\n",
    "\n",
    "Y_train = []\n",
    "for i in happy_data:\n",
    "    Y_train.append(i[2])\n",
    "Y_train = np.array(Y_train)\n",
    "\n",
    "X_train = [] \n",
    "X_test = []\n",
    "    \n",
    "for i in country_data:\n",
    "    info = []\n",
    "    for j in [7,8,10]: \n",
    "        if isinstance(i[j], float) or isinstance(i[j], int):\n",
    "            if not math.isnan(i[j]):\n",
    "                info.append(i[j])\n",
    "            else:\n",
    "                info.append(means[j])\n",
    "        else:\n",
    "            info.append(float(i[j].replace(',','.')))  \n",
    "    X_train.append(info)\n",
    "\n",
    "for i in unknown_country_data:\n",
    "    info = []\n",
    "    for j in [7,8,10]: \n",
    "        if isinstance(i[j], float) or isinstance(i[j], int):\n",
    "            if not math.isnan(i[j]):\n",
    "                info.append(i[j])\n",
    "            else:\n",
    "                info.append(means[j])\n",
    "        else:\n",
    "            info.append(float(i[j].replace(',','.')))  \n",
    "    X_test.append(info)\n",
    "    \n",
    "    \n",
    "X_train = np.array(X_train)\n",
    "X_test = np.array(X_test)\n",
    "\n",
    "lr = LinearRegression()\n",
    "lr.fit(X_train, Y_train)\n",
    "y_predict = lr.predict(X_test)\n",
    "\n",
    "top5 = y_predict.argsort()[-5:][::-1]\n",
    "for i in top5:\n",
    "    print(\"Country: \", unknown_country_data[i][0], \" Prediction: \", str(y_predict[i]))\n",
    "    \n",
    "bottom5 = y_predict.argsort()[:5][::1]\n",
    "for i in bottom5:\n",
    "    print(\"Country: \", unknown_country_data[i][0], \" Prediction: \", str(y_predict[i]))\n",
    "\n",
    "\n",
    "# for i in range(len(y_predict)):\n",
    "#     print(\"Country: \", unknown_country_data[i][0], \" Prediction: \", str(y_predict[i]))"
   ]
  },
  {
   "cell_type": "code",
   "execution_count": null,
   "metadata": {
    "collapsed": true
   },
   "outputs": [],
   "source": []
  }
 ],
 "metadata": {
  "kernelspec": {
   "display_name": "Python 2",
   "language": "python",
   "name": "python2"
  },
  "language_info": {
   "codemirror_mode": {
    "name": "ipython",
    "version": 2
   },
   "file_extension": ".py",
   "mimetype": "text/x-python",
   "name": "python",
   "nbconvert_exporter": "python",
   "pygments_lexer": "ipython2",
   "version": "2.7.11"
  }
 },
 "nbformat": 4,
 "nbformat_minor": 2
}
